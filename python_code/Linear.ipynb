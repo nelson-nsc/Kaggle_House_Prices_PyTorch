{
 "cells": [
  {
   "cell_type": "code",
   "execution_count": 31,
   "id": "48d60096",
   "metadata": {},
   "outputs": [],
   "source": [
    "%matplotlib inline\n",
    "import numpy as np\n",
    "import matplotlib.pyplot as plt\n",
    "import pandas as pd\n",
    "import torch\n",
    "from torch import nn\n",
    "from torch.utils import data"
   ]
  },
  {
   "cell_type": "markdown",
   "id": "83d937ef",
   "metadata": {},
   "source": [
    "### Import Data"
   ]
  },
  {
   "cell_type": "code",
   "execution_count": 45,
   "id": "1e4a2347",
   "metadata": {},
   "outputs": [],
   "source": [
    "train_raw = pd.read_csv('train.csv')\n",
    "test_raw = pd.read_csv('test.csv')"
   ]
  },
  {
   "cell_type": "markdown",
   "id": "b7a7e46a",
   "metadata": {},
   "source": [
    "##### description"
   ]
  },
  {
   "cell_type": "code",
   "execution_count": 46,
   "id": "7c2a53a4",
   "metadata": {},
   "outputs": [
    {
     "data": {
      "text/plain": [
       "((1460, 81), (1459, 80))"
      ]
     },
     "execution_count": 46,
     "metadata": {},
     "output_type": "execute_result"
    }
   ],
   "source": [
    "train_raw.shape, test_raw.shape"
   ]
  },
  {
   "cell_type": "code",
   "execution_count": 47,
   "id": "c9861018",
   "metadata": {},
   "outputs": [
    {
     "data": {
      "text/html": [
       "<div>\n",
       "<style scoped>\n",
       "    .dataframe tbody tr th:only-of-type {\n",
       "        vertical-align: middle;\n",
       "    }\n",
       "\n",
       "    .dataframe tbody tr th {\n",
       "        vertical-align: top;\n",
       "    }\n",
       "\n",
       "    .dataframe thead th {\n",
       "        text-align: right;\n",
       "    }\n",
       "</style>\n",
       "<table border=\"1\" class=\"dataframe\">\n",
       "  <thead>\n",
       "    <tr style=\"text-align: right;\">\n",
       "      <th></th>\n",
       "      <th>Id</th>\n",
       "      <th>MSSubClass</th>\n",
       "      <th>MSZoning</th>\n",
       "      <th>LotFrontage</th>\n",
       "      <th>SaleType</th>\n",
       "      <th>SaleCondition</th>\n",
       "      <th>SalePrice</th>\n",
       "    </tr>\n",
       "  </thead>\n",
       "  <tbody>\n",
       "    <tr>\n",
       "      <th>0</th>\n",
       "      <td>1</td>\n",
       "      <td>60</td>\n",
       "      <td>RL</td>\n",
       "      <td>65.0</td>\n",
       "      <td>WD</td>\n",
       "      <td>Normal</td>\n",
       "      <td>208500</td>\n",
       "    </tr>\n",
       "    <tr>\n",
       "      <th>1</th>\n",
       "      <td>2</td>\n",
       "      <td>20</td>\n",
       "      <td>RL</td>\n",
       "      <td>80.0</td>\n",
       "      <td>WD</td>\n",
       "      <td>Normal</td>\n",
       "      <td>181500</td>\n",
       "    </tr>\n",
       "    <tr>\n",
       "      <th>2</th>\n",
       "      <td>3</td>\n",
       "      <td>60</td>\n",
       "      <td>RL</td>\n",
       "      <td>68.0</td>\n",
       "      <td>WD</td>\n",
       "      <td>Normal</td>\n",
       "      <td>223500</td>\n",
       "    </tr>\n",
       "    <tr>\n",
       "      <th>3</th>\n",
       "      <td>4</td>\n",
       "      <td>70</td>\n",
       "      <td>RL</td>\n",
       "      <td>60.0</td>\n",
       "      <td>WD</td>\n",
       "      <td>Abnorml</td>\n",
       "      <td>140000</td>\n",
       "    </tr>\n",
       "  </tbody>\n",
       "</table>\n",
       "</div>"
      ],
      "text/plain": [
       "   Id  MSSubClass MSZoning  LotFrontage SaleType SaleCondition  SalePrice\n",
       "0   1          60       RL         65.0       WD        Normal     208500\n",
       "1   2          20       RL         80.0       WD        Normal     181500\n",
       "2   3          60       RL         68.0       WD        Normal     223500\n",
       "3   4          70       RL         60.0       WD       Abnorml     140000"
      ]
     },
     "execution_count": 47,
     "metadata": {},
     "output_type": "execute_result"
    }
   ],
   "source": [
    "train_raw.iloc[0:4,[0,1,2,3,-3,-2,-1]]"
   ]
  },
  {
   "cell_type": "markdown",
   "id": "b483f849",
   "metadata": {},
   "source": [
    "##### Concatenate the train and test data for standardisation"
   ]
  },
  {
   "cell_type": "code",
   "execution_count": 48,
   "id": "3a25cef7",
   "metadata": {},
   "outputs": [],
   "source": [
    "all_features_raw = pd.concat((train_raw.iloc[:,1:-1], test_raw.iloc[:,1:]))\n",
    "all_features = all_features_raw.copy()"
   ]
  },
  {
   "cell_type": "markdown",
   "id": "b6c66427",
   "metadata": {},
   "source": [
    "### Data Preprocessing"
   ]
  },
  {
   "cell_type": "markdown",
   "id": "487f07e3",
   "metadata": {},
   "source": [
    "##### Standardisation"
   ]
  },
  {
   "cell_type": "code",
   "execution_count": 49,
   "id": "22e17a79",
   "metadata": {},
   "outputs": [],
   "source": [
    "numeric_features = all_features.dtypes[all_features.dtypes != 'object'].index\n",
    "all_features[numeric_features] = all_features[numeric_features].apply(\n",
    "    lambda x: (x-x.mean())/(x.std()))\n",
    "all_features[numeric_features] = all_features[numeric_features].fillna(0)"
   ]
  },
  {
   "cell_type": "markdown",
   "id": "d701f6ff",
   "metadata": {},
   "source": [
    "##### Get Dummies"
   ]
  },
  {
   "cell_type": "code",
   "execution_count": 50,
   "id": "53f17b3c",
   "metadata": {},
   "outputs": [
    {
     "data": {
      "text/plain": [
       "(2919, 331)"
      ]
     },
     "execution_count": 50,
     "metadata": {},
     "output_type": "execute_result"
    }
   ],
   "source": [
    "all_features = pd.get_dummies(all_features, dummy_na=True)\n",
    "all_features.shape"
   ]
  },
  {
   "cell_type": "markdown",
   "id": "131dfcca",
   "metadata": {},
   "source": [
    "###### Convert to tensors"
   ]
  },
  {
   "cell_type": "code",
   "execution_count": 109,
   "id": "6bdcb2ff",
   "metadata": {},
   "outputs": [],
   "source": [
    "n_train = train_raw.shape[0]\n",
    "train_features = torch.tensor(all_features[:n_train].values, dtype=torch.float32).to(device)\n",
    "test_features = torch.tensor(all_features[n_train:].values, dtype=torch.float32).to(device)\n",
    "train_labels = torch.tensor(train_raw.SalePrice.values.reshape(-1,1), dtype=torch.float32).to(device)"
   ]
  },
  {
   "cell_type": "markdown",
   "id": "353d606a",
   "metadata": {},
   "source": [
    "### Training"
   ]
  },
  {
   "cell_type": "markdown",
   "id": "275db0eb",
   "metadata": {},
   "source": [
    "##### Define loss function and model"
   ]
  },
  {
   "cell_type": "markdown",
   "id": "70662d67",
   "metadata": {},
   "source": [
    "##### We can experiement with the model. For example, the simplest can be a single nn.Linear model"
   ]
  },
  {
   "cell_type": "code",
   "execution_count": 110,
   "id": "dabc955c",
   "metadata": {},
   "outputs": [],
   "source": [
    "device = 'cuda' if torch.cuda.is_available() else 'cpu'\n",
    "loss = nn.MSELoss()\n",
    "in_features = train_features.shape[1]\n",
    "\n",
    "def get_net():\n",
    "    net = nn.Sequential(nn.Linear(in_features, 64), nn.ReLU(), nn.Linear(64,1)).to(device)\n",
    "    return net"
   ]
  },
  {
   "cell_type": "markdown",
   "id": "d87dbc37",
   "metadata": {},
   "source": [
    "##### Log root mean squared error"
   ]
  },
  {
   "cell_type": "code",
   "execution_count": 111,
   "id": "5e857246",
   "metadata": {},
   "outputs": [],
   "source": [
    "def log_rmse(net, features, labels):\n",
    "    clipped_preds = torch.clamp(net(features), 1, float('inf'))\n",
    "    rmse = torch.sqrt(loss(torch.log(clipped_preds), torch.log(labels)))\n",
    "    return rmse.item()"
   ]
  },
  {
   "cell_type": "markdown",
   "id": "d7983679",
   "metadata": {},
   "source": [
    "##### Load dataset"
   ]
  },
  {
   "cell_type": "code",
   "execution_count": 112,
   "id": "6db24eb2",
   "metadata": {},
   "outputs": [],
   "source": [
    "def load_array(data_arrays, batch_size, is_train=True):\n",
    "    dataset = data.TensorDataset(*data_arrays)\n",
    "    return data.DataLoader(dataset, batch_size, shuffle=is_train)"
   ]
  },
  {
   "cell_type": "markdown",
   "id": "e4f3ecc1",
   "metadata": {},
   "source": [
    "##### Define trainning model"
   ]
  },
  {
   "cell_type": "code",
   "execution_count": 113,
   "id": "048237f3",
   "metadata": {},
   "outputs": [],
   "source": [
    "def train(net, train_features, train_labels, test_features, test_labels,\n",
    "          num_epochs, learning_rate, weight_decay, batch_size):\n",
    "    train_ls, test_ls = [], []\n",
    "    train_iter = load_array((train_features, train_labels), batch_size)\n",
    "    optimizer = torch.optim.Adam(net.parameters(), lr=learning_rate,\n",
    "                                 weight_decay=weight_decay)\n",
    "    for epoch in range(num_epochs):\n",
    "        for X, y in train_iter:\n",
    "            optimizer.zero_grad()\n",
    "            l = loss(net(X), y)\n",
    "            l.backward()\n",
    "            optimizer.step()\n",
    "        train_ls.append(log_rmse(net, train_features, train_labels))\n",
    "        if test_labels is not None:\n",
    "            test_ls.append(log_rmse(net, test_features, test_labels))\n",
    "    return train_ls, test_ls"
   ]
  },
  {
   "cell_type": "markdown",
   "id": "f303ae6d",
   "metadata": {},
   "source": [
    "##### K-fold cross-validation"
   ]
  },
  {
   "cell_type": "code",
   "execution_count": 114,
   "id": "0e07e8bd",
   "metadata": {},
   "outputs": [],
   "source": [
    "def get_k_fold_data(k, i, X, y):\n",
    "    assert k > 1\n",
    "    fold_size = X.shape[0] // k\n",
    "    X_train, y_train = None, None\n",
    "    for j in range(k):\n",
    "        idx = slice(j*fold_size, (j+1)*fold_size)\n",
    "        X_part, y_part = X[idx,:], y[idx]\n",
    "        if j == i:\n",
    "            X_valid, y_valid = X_part, y_part\n",
    "        elif X_train is None:\n",
    "            X_train, y_train = X_part, y_part\n",
    "        else:\n",
    "            X_train = torch.cat([X_train, X_part], 0)\n",
    "            y_train = torch.cat([y_train, y_part], 0)\n",
    "    return X_train, y_train, X_valid, y_valid"
   ]
  },
  {
   "cell_type": "code",
   "execution_count": 117,
   "id": "43bf0047",
   "metadata": {},
   "outputs": [],
   "source": [
    "def k_fold(k, X_train, y_train, num_epochs, learning_rate, weight_decay,\n",
    "           batch_size):\n",
    "    train_l_sum, valid_l_sum = 0, 0\n",
    "    for i in range(k):\n",
    "        data = get_k_fold_data(k, i, X_train, y_train)\n",
    "        net = get_net()\n",
    "        train_ls, valid_ls = train(net, *data, num_epochs, learning_rate,\n",
    "                                   weight_decay, batch_size)\n",
    "        train_l_sum += train_ls[-1]\n",
    "        valid_l_sum += valid_ls[-1]\n",
    "        print(f'fold {i + 1}, train log rmse {float(train_ls[-1]):f}, '\n",
    "              f'valid log rmse {float(valid_ls[-1]):f}')\n",
    "    return train_l_sum / k, valid_l_sum / k"
   ]
  },
  {
   "cell_type": "markdown",
   "id": "4e5cc09d",
   "metadata": {},
   "source": [
    "### Model Selection"
   ]
  },
  {
   "cell_type": "code",
   "execution_count": 150,
   "id": "619f896a",
   "metadata": {},
   "outputs": [
    {
     "name": "stdout",
     "output_type": "stream",
     "text": [
      "fold 1, train log rmse 0.060504, valid log rmse 0.137651\n",
      "fold 2, train log rmse 0.061839, valid log rmse 0.164960\n",
      "fold 3, train log rmse 0.059367, valid log rmse 0.154080\n",
      "fold 4, train log rmse 0.066540, valid log rmse 0.128201\n",
      "fold 5, train log rmse 0.049740, valid log rmse 0.164462\n",
      "5-fold validation: avg train log rmse: 0.059598, avg valid log rmse: 0.149871\n"
     ]
    }
   ],
   "source": [
    "k, num_epochs, lr, weight_decay, batch_size = 5, 100, 1.3, 2, 64\n",
    "train_l, valid_l = k_fold(k, train_features, train_labels, num_epochs, lr,\n",
    "                          weight_decay, batch_size)\n",
    "print(f'{k}-fold validation: avg train log rmse: {float(train_l):f}, '\n",
    "      f'avg valid log rmse: {float(valid_l):f}')"
   ]
  },
  {
   "cell_type": "markdown",
   "id": "3daef0ce",
   "metadata": {},
   "source": [
    "##### The train_and_pred function doesn't use the k-fold validation. It makes sense since k-fold slipt the concatenated data."
   ]
  },
  {
   "cell_type": "code",
   "execution_count": 151,
   "id": "438a426c",
   "metadata": {},
   "outputs": [],
   "source": [
    "def train_and_pred(train_features, test_features, train_labels, test_data, \n",
    "                   num_epochs, lr, weight_decay, batch_size):\n",
    "    net = get_net()\n",
    "    train_ls, _ = train(net, train_features, train_labels, None, None,\n",
    "                        num_epochs, lr, weight_decay, batch_size)\n",
    "    train_ls_all = []\n",
    "    train_ls_all.append(train_ls)\n",
    "    plt.plot(np.arange(1,101,1),train_ls_all[0])\n",
    "    plt.xlabel('epoch'), plt.ylabel('rmse')\n",
    "    print(f'train log rmse {float(train_ls[-1]):f}')\n",
    "    preds = net(test_features).cpu().detach().numpy()\n",
    "    test_data['SalePrice'] = pd.Series(preds.reshape(1,-1)[0])\n",
    "    submission = pd.concat([test_data['Id'], test_data['SalePrice']], axis=1)\n",
    "    submission.to_csv('submission.csv', index=False)"
   ]
  },
  {
   "cell_type": "code",
   "execution_count": 152,
   "id": "c810849a",
   "metadata": {},
   "outputs": [
    {
     "name": "stdout",
     "output_type": "stream",
     "text": [
      "train log rmse 0.059983\n"
     ]
    },
    {
     "data": {
      "image/png": "[encoded data removed]",
      "text/plain": [
       "<Figure size 432x288 with 1 Axes>"
      ]
     },
     "metadata": {
      "needs_background": "light"
     },
     "output_type": "display_data"
    }
   ],
   "source": [
    "train_and_pred(train_features, test_features, train_labels, test_raw,\n",
    "               num_epochs, lr, weight_decay, batch_size)"
   ]
  },
  {
   "cell_type": "code",
   "execution_count": 148,
   "id": "96fadc5e",
   "metadata": {},
   "outputs": [
    {
     "name": "stdout",
     "output_type": "stream",
     "text": [
      "train log rmse 0.095216\n",
      "train log rmse 0.057036\n",
      "train log rmse 0.048914\n",
      "train log rmse 0.055390\n",
      "train log rmse 0.051434\n",
      "train log rmse 0.087264\n",
      "train log rmse 0.046050\n",
      "train log rmse 0.056727\n",
      "train log rmse 0.073113\n",
      "train log rmse 0.089574\n",
      "train log rmse 0.063307\n",
      "train log rmse 0.062209\n",
      "train log rmse 0.079727\n",
      "train log rmse 0.326645\n",
      "train log rmse 0.062816\n",
      "train log rmse 0.123729\n",
      "train log rmse 0.095543\n",
      "train log rmse 0.095317\n",
      "train log rmse 0.084934\n",
      "train log rmse 0.098319\n",
      "train log rmse 0.084774\n",
      "train log rmse 0.107019\n",
      "train log rmse 0.073643\n",
      "train log rmse 0.116645\n",
      "train log rmse 0.053792\n"
     ]
    },
    {
     "data": {
      "image/png": "[encoded data removed]",
      "text/plain": [
       "<Figure size 432x288 with 1 Axes>"
      ]
     },
     "metadata": {
      "needs_background": "light"
     },
     "output_type": "display_data"
    }
   ],
   "source": [
    "lr_range = np.arange(0.1, 5, 0.2).tolist()\n",
    "for lr in lr_range:\n",
    "    train_and_pred(train_features, test_features, train_labels, test_raw,\n",
    "               num_epochs, lr, weight_decay, batch_size)"
   ]
  },
  {
   "cell_type": "code",
   "execution_count": 149,
   "id": "e94fec2b",
   "metadata": {},
   "outputs": [
    {
     "data": {
      "text/plain": [
       "[0.1,\n",
       " 0.30000000000000004,\n",
       " 0.5000000000000001,\n",
       " 0.7000000000000001,\n",
       " 0.9000000000000001,\n",
       " 1.1000000000000003,\n",
       " 1.3000000000000003,\n",
       " 1.5000000000000004,\n",
       " 1.7000000000000004,\n",
       " 1.9000000000000004]"
      ]
     },
     "execution_count": 149,
     "metadata": {},
     "output_type": "execute_result"
    }
   ],
   "source": [
    "np.arange(0.1, 2, 0.2).tolist()"
   ]
  },
  {
   "cell_type": "code",
   "execution_count": null,
   "id": "464cdac1",
   "metadata": {},
   "outputs": [],
   "source": []
  }
 ],
 "metadata": {
  "kernelspec": {
   "display_name": "Python 3",
   "language": "python",
   "name": "python3"
  },
  "language_info": {
   "codemirror_mode": {
    "name": "ipython",
    "version": 3
   },
   "file_extension": ".py",
   "mimetype": "text/x-python",
   "name": "python",
   "nbconvert_exporter": "python",
   "pygments_lexer": "ipython3",
   "version": "3.8.10"
  }
 },
 "nbformat": 4,
 "nbformat_minor": 5
}
